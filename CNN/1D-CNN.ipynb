{
  "nbformat": 4,
  "nbformat_minor": 0,
  "metadata": {
    "colab": {
      "name": "Assignment2_question1.ipynb",
      "version": "0.3.2",
      "provenance": [],
      "toc_visible": true
    },
    "kernelspec": {
      "name": "python3",
      "display_name": "Python 3"
    },
    "accelerator": "GPU"
  },
  "cells": [
    {
      "metadata": {
        "id": "_SrrZGWi-1vg",
        "colab_type": "code",
        "colab": {}
      },
      "cell_type": "code",
      "source": [
        "import librosa\n",
        "import numpy as np\n",
        "import tensorflow as tf"
      ],
      "execution_count": 0,
      "outputs": []
    },
    {
      "metadata": {
        "id": "T7ONDk40_Bvy",
        "colab_type": "code",
        "colab": {}
      },
      "cell_type": "code",
      "source": [
        "#Loading training and testing files\n",
        "#Computing STFT on all the files\n",
        "s, sr = librosa.load('train_clean_male.wav', sr=None)\n",
        "S = librosa.stft(s, n_fft=1024, hop_length=512)\n",
        "\n",
        "sn, sr = librosa.load('train_dirty_male.wav', sr=None)\n",
        "X = librosa.stft(sn, n_fft=1024, hop_length=512)\n",
        "\n",
        "x_test, sr = librosa.load('test_x_01.wav', sr=None)\n",
        "X_test = librosa.stft(x_test, n_fft=1024, hop_length=512)\n",
        "\n",
        "x_test2, sr = librosa.load('test_x_02.wav', sr=None)\n",
        "X_test2 = librosa.stft(x_test2, n_fft=1024, hop_length=512)"
      ],
      "execution_count": 0,
      "outputs": []
    },
    {
      "metadata": {
        "id": "w9h6Vm6w_QhS",
        "colab_type": "code",
        "colab": {}
      },
      "cell_type": "code",
      "source": [
        "#Calculating the magnitude of all the input files\n",
        "mag_S = np.abs(S)\n",
        "mag_X = np.abs(X)\n",
        "mag_X_test = np.abs(X_test)\n",
        "mag_X_test2 = np.abs(X_test2)\n",
        "\n",
        "#Defining model specifications\n",
        "learning_rate = 0.0002\n",
        "num_epochs = 1000"
      ],
      "execution_count": 0,
      "outputs": []
    },
    {
      "metadata": {
        "id": "zxj7O3gJGlzw",
        "colab_type": "code",
        "colab": {}
      },
      "cell_type": "code",
      "source": [
        "input = tf.placeholder(tf.float32, [None, 513])\n",
        "labels = tf.placeholder(tf.float32, [None, 513])"
      ],
      "execution_count": 0,
      "outputs": []
    },
    {
      "metadata": {
        "id": "Wxcr9oTlHl6t",
        "colab_type": "code",
        "colab": {}
      },
      "cell_type": "code",
      "source": [
        "def getModel(x):\n",
        "  # Input Layer\n",
        "  input_layer = tf.reshape(x, [-1, 513, 1])\n",
        "\n",
        "  # Convolutional Layer #1\n",
        "  conv1 = tf.layers.conv1d(\n",
        "      inputs=input_layer,\n",
        "      filters=16,\n",
        "      kernel_size=16,\n",
        "      padding=\"same\",\n",
        "      activation=tf.nn.relu)\n",
        "\n",
        "  # Pooling Layer #1\n",
        "  pool1 = tf.layers.max_pooling1d(inputs=conv1, pool_size=2, strides=2)\n",
        "\n",
        "  # Convolutional Layer #2 and Pooling Layer #2\n",
        "  conv2 = tf.layers.conv1d(\n",
        "      inputs=pool1,\n",
        "      filters=32,\n",
        "      kernel_size=8,\n",
        "      padding=\"same\",\n",
        "      activation=tf.nn.relu)\n",
        "  \n",
        "  pool2 = tf.layers.max_pooling1d(inputs=conv2, pool_size=2, strides=2)\n",
        "\n",
        "  # Dense Layer\n",
        "  pool2_flat = tf.layers.flatten(pool2)\n",
        "  \n",
        "  logits = tf.layers.dense(inputs=pool2_flat, units=513, activation=tf.nn.relu)\n",
        "  \n",
        "  return logits"
      ],
      "execution_count": 0,
      "outputs": []
    },
    {
      "metadata": {
        "id": "2eFOQJs_G7Cv",
        "colab_type": "code",
        "outputId": "57a8471d-9fb8-4461-fbc8-f10f201fe683",
        "colab": {
          "base_uri": "https://localhost:8080/",
          "height": 494
        }
      },
      "cell_type": "code",
      "source": [
        "output = getModel(input)\n",
        "#Defining the loss function along with its optimizer\n",
        "loss = tf.reduce_mean(tf.square(output - labels))\n",
        "train_step = tf.train.AdamOptimizer(learning_rate).minimize(loss)\n",
        "\n",
        "sess = tf.InteractiveSession()\n",
        "sess.run(tf.global_variables_initializer())\n",
        "\n",
        "count = 0\n",
        "batch_size = 100\n",
        "flag = True\n",
        "\n",
        "while flag:\n",
        "    size = 0\n",
        "    #Mini batching with the given batch size\n",
        "    for i in range(0 , 2459, batch_size):\n",
        "        size += batch_size\n",
        "        if size <= 2459:\n",
        "            batch_x = mag_X[:,i : size]\n",
        "            batch_y = mag_S[:,i : size]\n",
        "        else:\n",
        "            batch_x = mag_X[:,i : 2459]\n",
        "            batch_y = mag_S[:,i : 2459]\n",
        "       \n",
        "        feed_dict = {input: batch_x.T, labels: batch_y.T}\n",
        "        train_step.run(feed_dict=feed_dict)\n",
        "   \n",
        "    if count%100 == 0:\n",
        "        loss_calc = loss.eval(feed_dict=feed_dict)\n",
        "        print(\"Epoch %d, loss %g\"%(count, loss_calc))\n",
        "    \n",
        "    #Once all the epochs are completed, training is stopped\n",
        "    if count >= num_epochs:\n",
        "        flag = False  \n",
        "        \n",
        "    count+=1"
      ],
      "execution_count": 6,
      "outputs": [
        {
          "output_type": "stream",
          "text": [
            "WARNING:tensorflow:From <ipython-input-5-ab5314dc85ce>:11: conv1d (from tensorflow.python.layers.convolutional) is deprecated and will be removed in a future version.\n",
            "Instructions for updating:\n",
            "Use keras.layers.conv1d instead.\n",
            "WARNING:tensorflow:From /usr/local/lib/python3.6/dist-packages/tensorflow/python/framework/op_def_library.py:263: colocate_with (from tensorflow.python.framework.ops) is deprecated and will be removed in a future version.\n",
            "Instructions for updating:\n",
            "Colocations handled automatically by placer.\n",
            "WARNING:tensorflow:From <ipython-input-5-ab5314dc85ce>:14: max_pooling1d (from tensorflow.python.layers.pooling) is deprecated and will be removed in a future version.\n",
            "Instructions for updating:\n",
            "Use keras.layers.max_pooling1d instead.\n",
            "WARNING:tensorflow:From <ipython-input-5-ab5314dc85ce>:27: flatten (from tensorflow.python.layers.core) is deprecated and will be removed in a future version.\n",
            "Instructions for updating:\n",
            "Use keras.layers.flatten instead.\n",
            "WARNING:tensorflow:From <ipython-input-5-ab5314dc85ce>:29: dense (from tensorflow.python.layers.core) is deprecated and will be removed in a future version.\n",
            "Instructions for updating:\n",
            "Use keras.layers.dense instead.\n",
            "Epoch 0, loss 0.0128128\n",
            "Epoch 100, loss 0.00114099\n",
            "Epoch 200, loss 0.000843799\n",
            "Epoch 300, loss 0.000699082\n",
            "Epoch 400, loss 0.000653681\n",
            "Epoch 500, loss 0.000602551\n",
            "Epoch 600, loss 0.000548083\n",
            "Epoch 700, loss 0.000548907\n",
            "Epoch 800, loss 0.000477183\n",
            "Epoch 900, loss 0.000443766\n",
            "Epoch 1000, loss 0.000448131\n"
          ],
          "name": "stdout"
        }
      ]
    },
    {
      "metadata": {
        "id": "9KZawjhcxhVe",
        "colab_type": "code",
        "colab": {}
      },
      "cell_type": "code",
      "source": [
        "#Calculating the output from the given input, trained model and layer number\n",
        "def feedforward(input_data, dnn_output):\n",
        "    output = dnn_output.eval(feed_dict = {input : input_data})\n",
        "    \n",
        "    return output\n",
        "\n",
        "#Recovering the complex values of the file from the output of the model\n",
        "def recover_sound(X , mag_X , mag_output):\n",
        "  temp = X / mag_X\n",
        "  s_hat = temp * mag_output\n",
        "  \n",
        "  return s_hat"
      ],
      "execution_count": 0,
      "outputs": []
    },
    {
      "metadata": {
        "id": "98kJsJv7xret",
        "colab_type": "code",
        "colab": {}
      },
      "cell_type": "code",
      "source": [
        "#Computing the output from the model for both the test files\n",
        "s_hat_test1 = feedforward(mag_X_test.T , output)\n",
        "s_hat_test2 = feedforward(mag_X_test2.T , output)\n",
        "\n",
        "#Recovering the complex values of both the test files\n",
        "s_hat1 = recover_sound(X_test , mag_X_test , s_hat_test1.T)\n",
        "s_hat2 = recover_sound(X_test2 , mag_X_test2 , s_hat_test2.T)"
      ],
      "execution_count": 0,
      "outputs": []
    },
    {
      "metadata": {
        "id": "fAo0Z_lsx153",
        "colab_type": "code",
        "colab": {}
      },
      "cell_type": "code",
      "source": [
        "#Reconstructing the test files after removing noise\n",
        "recon_sound = librosa.istft(s_hat1 , hop_length=512 , win_length=1024)\n",
        "librosa.output.write_wav('test_s_01_recons_q1.wav', recon_sound, sr)\n",
        "\n",
        "recon_sound2 = librosa.istft(s_hat2 , hop_length=512 , win_length=1024)\n",
        "librosa.output.write_wav('test_s_02_recons_q1.wav', recon_sound2, sr)"
      ],
      "execution_count": 0,
      "outputs": []
    },
    {
      "metadata": {
        "id": "2fWx6mLxz2rB",
        "colab_type": "code",
        "colab": {}
      },
      "cell_type": "code",
      "source": [
        "#For testing purpose, feeding the model with train_dirty_male file\n",
        "#From the output generated, reconstructing the audio file\n",
        "s_hat_test3 = feedforward(mag_X.T , output)\n",
        "s_hat3 = recover_sound(X, mag_X , s_hat_test3.T)\n",
        "recon_sound3 = librosa.istft(s_hat3 , hop_length=512 , win_length=1024)\n",
        "size_recon_sound3 = np.shape(recon_sound3)[0]"
      ],
      "execution_count": 0,
      "outputs": []
    },
    {
      "metadata": {
        "id": "9VZwGR06z8tu",
        "colab_type": "code",
        "outputId": "1728c2e0-3c7c-4726-8f19-a902d27b6bd4",
        "colab": {
          "base_uri": "https://localhost:8080/",
          "height": 34
        }
      },
      "cell_type": "code",
      "source": [
        "#Once the audio file is generated, calculating the SNR value\n",
        "s = s[: size_recon_sound3]\n",
        "num = np.dot(s.T , s)\n",
        "den = np.dot((s - recon_sound3).T,(s - recon_sound3))\n",
        "SNR = 10 * np.log10(num/den)\n",
        "print('Value of SNR : ' + str(SNR))"
      ],
      "execution_count": 11,
      "outputs": [
        {
          "output_type": "stream",
          "text": [
            "Value of SNR : 16.28388285636902\n"
          ],
          "name": "stdout"
        }
      ]
    }
  ]
}