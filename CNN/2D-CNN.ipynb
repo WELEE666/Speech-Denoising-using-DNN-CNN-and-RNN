{
  "nbformat": 4,
  "nbformat_minor": 0,
  "metadata": {
    "colab": {
      "name": "Assignment2_question2.ipynb",
      "version": "0.3.2",
      "provenance": [],
      "collapsed_sections": []
    },
    "kernelspec": {
      "name": "python3",
      "display_name": "Python 3"
    },
    "accelerator": "GPU"
  },
  "cells": [
    {
      "metadata": {
        "id": "_SrrZGWi-1vg",
        "colab_type": "code",
        "colab": {}
      },
      "cell_type": "code",
      "source": [
        "import librosa\n",
        "import numpy as np\n",
        "import matplotlib.pyplot as plt\n",
        "import tensorflow as tf\n",
        "import random\n",
        "import copy"
      ],
      "execution_count": 0,
      "outputs": []
    },
    {
      "metadata": {
        "id": "T7ONDk40_Bvy",
        "colab_type": "code",
        "colab": {}
      },
      "cell_type": "code",
      "source": [
        "#Loading training and testing files\n",
        "#Computing STFT on all the files\n",
        "s, sr = librosa.load('train_clean_male.wav', sr=None)\n",
        "S = librosa.stft(s, n_fft=1024, hop_length=512)\n",
        "\n",
        "sn, sr = librosa.load('train_dirty_male.wav', sr=None)\n",
        "X = librosa.stft(sn, n_fft=1024, hop_length=512)\n",
        "\n",
        "x_test, sr = librosa.load('test_x_01.wav', sr=None)\n",
        "X_test = librosa.stft(x_test, n_fft=1024, hop_length=512)\n",
        "\n",
        "x_test2, sr = librosa.load('test_x_02.wav', sr=None)\n",
        "X_test2 = librosa.stft(x_test2, n_fft=1024, hop_length=512)"
      ],
      "execution_count": 0,
      "outputs": []
    },
    {
      "metadata": {
        "id": "w9h6Vm6w_QhS",
        "colab_type": "code",
        "colab": {}
      },
      "cell_type": "code",
      "source": [
        "#Calculating the magnitude of all the input files\n",
        "mag_S = np.abs(S)\n",
        "mag_X = np.abs(X)\n",
        "mag_X_test = np.abs(X_test)\n",
        "mag_X_test2 = np.abs(X_test2)\n",
        "\n",
        "#Defining model specifications\n",
        "learning_rate = 0.0002\n",
        "num_epochs = 2000\n",
        "batch_size = 64\n",
        "window_size = 20"
      ],
      "execution_count": 0,
      "outputs": []
    },
    {
      "metadata": {
        "id": "zxj7O3gJGlzw",
        "colab_type": "code",
        "colab": {}
      },
      "cell_type": "code",
      "source": [
        "input = tf.placeholder(tf.float32, [None, 513])\n",
        "labels = tf.placeholder(tf.float32, [None, 513])"
      ],
      "execution_count": 0,
      "outputs": []
    },
    {
      "metadata": {
        "id": "Wxcr9oTlHl6t",
        "colab_type": "code",
        "colab": {}
      },
      "cell_type": "code",
      "source": [
        "def getModel(x):\n",
        "  # Input Layer\n",
        "  input_layer = tf.reshape(x, [-1, 20, 513, 1])\n",
        "\n",
        "  # Convolutional Layer #1\n",
        "  conv1 = tf.layers.conv2d(\n",
        "      inputs=input_layer,\n",
        "      filters=16,\n",
        "      kernel_size=[4,4],\n",
        "      padding=\"same\",\n",
        "      activation=tf.nn.relu)\n",
        "\n",
        "  # Pooling Layer #1\n",
        "  pool1 = tf.layers.max_pooling2d(inputs=conv1, pool_size=[2,2], strides=[2,2])\n",
        "\n",
        "  # Convolutional Layer #2 and Pooling Layer #2\n",
        "  conv2 = tf.layers.conv2d(\n",
        "      inputs=pool1,\n",
        "      filters=32,\n",
        "      kernel_size=[2,2],\n",
        "      padding=\"same\",\n",
        "      activation=tf.nn.relu)\n",
        "  \n",
        "  pool2 = tf.layers.max_pooling2d(inputs=conv2, pool_size=[2,2], strides=[2,2])\n",
        "\n",
        "  # Dense Layer\n",
        "  pool2_flat = tf.layers.flatten(pool2)\n",
        "  \n",
        "  logits = tf.layers.dense(inputs=pool2_flat, units=513, activation=tf.nn.relu)\n",
        "  \n",
        "  return logits"
      ],
      "execution_count": 0,
      "outputs": []
    },
    {
      "metadata": {
        "id": "FHXQYG0OCykg",
        "colab_type": "code",
        "colab": {}
      },
      "cell_type": "code",
      "source": [
        "def transform_data(x , size , window_size):\n",
        "  temp = x[0 : 0 + window_size,:]\n",
        "  for i in range(1 , size - window_size + 1):\n",
        "      temp_mini = x[i : i + window_size,:]\n",
        "      temp = np.vstack((temp , temp_mini))\n",
        "      \n",
        "  return temp"
      ],
      "execution_count": 0,
      "outputs": []
    },
    {
      "metadata": {
        "id": "Bb87Kv8tDxK-",
        "colab_type": "code",
        "colab": {}
      },
      "cell_type": "code",
      "source": [
        "#Transforming the data in such a way that it takes 20 current and previous input frames\n",
        "transformed_x = transform_data(mag_X.T , np.shape(mag_X.T)[0] , window_size)"
      ],
      "execution_count": 0,
      "outputs": []
    },
    {
      "metadata": {
        "id": "G3v2uSJT_x51",
        "colab_type": "code",
        "colab": {}
      },
      "cell_type": "code",
      "source": [
        "#Keeping a copy of transformed x because we will require it later on to calculate the SNR\n",
        "transformed_x1 = copy.deepcopy(transformed_x)"
      ],
      "execution_count": 0,
      "outputs": []
    },
    {
      "metadata": {
        "id": "mD4kQBfJV_hb",
        "colab_type": "code",
        "colab": {}
      },
      "cell_type": "code",
      "source": [
        "#Transforming the input data into 2D format\n",
        "transformed_x = np.reshape(transformed_x , (2440 , 20 , 513))"
      ],
      "execution_count": 0,
      "outputs": []
    },
    {
      "metadata": {
        "id": "AlvKw2u9dBBJ",
        "colab_type": "code",
        "colab": {}
      },
      "cell_type": "code",
      "source": [
        "#Dropping first 19 frames from y(clean wave) signal\n",
        "transformed_y = (mag_S.T)[window_size - 1 : , :]"
      ],
      "execution_count": 0,
      "outputs": []
    },
    {
      "metadata": {
        "id": "2eFOQJs_G7Cv",
        "colab_type": "code",
        "outputId": "00f0dc91-c2ea-4c9e-b851-0c9f5f3a8ca5",
        "colab": {
          "base_uri": "https://localhost:8080/",
          "height": 494
        }
      },
      "cell_type": "code",
      "source": [
        "output = getModel(input)\n",
        "#Defining the loss function along with its optimizer\n",
        "loss = tf.reduce_mean(tf.square(output - labels))\n",
        "train_step = tf.train.AdamOptimizer(learning_rate).minimize(loss)\n",
        "\n",
        "sess = tf.InteractiveSession()\n",
        "sess.run(tf.global_variables_initializer())\n",
        "\n",
        "count = 0\n",
        "flag = True\n",
        "\n",
        "while flag:\n",
        "    size = 0\n",
        "    #Mini batching with the given batch size\n",
        "    for i in range(0 , 2440, batch_size):\n",
        "        size += batch_size\n",
        "        if size <= 2440:\n",
        "            batch_x = transformed_x[i : size, :]\n",
        "            batch_y = transformed_y[i : size, :]\n",
        "        else:\n",
        "            batch_x = transformed_x[i : 2440, :]\n",
        "            batch_y = transformed_y[i : 2440, :]\n",
        "        \n",
        "        \n",
        "        batch_x = batch_x.reshape((np.shape(batch_x)[0] * np.shape(batch_x)[1] , np.shape(batch_x)[2]))\n",
        "        feed_dict = {input: batch_x, labels: batch_y}\n",
        "        train_step.run(feed_dict=feed_dict)\n",
        "\n",
        "    if count%200 == 0:\n",
        "        loss_calc = loss.eval(feed_dict=feed_dict)\n",
        "        print(\"Epoch %d, loss %g\"%(count, loss_calc))\n",
        "    \n",
        "    #Once all the epochs are completed, training is stopped\n",
        "    if count >= num_epochs:\n",
        "        flag = False  \n",
        "        \n",
        "    count+=1"
      ],
      "execution_count": 11,
      "outputs": [
        {
          "output_type": "stream",
          "text": [
            "WARNING:tensorflow:From <ipython-input-5-313388ed2fdd>:11: conv2d (from tensorflow.python.layers.convolutional) is deprecated and will be removed in a future version.\n",
            "Instructions for updating:\n",
            "Use keras.layers.conv2d instead.\n",
            "WARNING:tensorflow:From /usr/local/lib/python3.6/dist-packages/tensorflow/python/framework/op_def_library.py:263: colocate_with (from tensorflow.python.framework.ops) is deprecated and will be removed in a future version.\n",
            "Instructions for updating:\n",
            "Colocations handled automatically by placer.\n",
            "WARNING:tensorflow:From <ipython-input-5-313388ed2fdd>:14: max_pooling2d (from tensorflow.python.layers.pooling) is deprecated and will be removed in a future version.\n",
            "Instructions for updating:\n",
            "Use keras.layers.max_pooling2d instead.\n",
            "WARNING:tensorflow:From <ipython-input-5-313388ed2fdd>:27: flatten (from tensorflow.python.layers.core) is deprecated and will be removed in a future version.\n",
            "Instructions for updating:\n",
            "Use keras.layers.flatten instead.\n",
            "WARNING:tensorflow:From <ipython-input-5-313388ed2fdd>:29: dense (from tensorflow.python.layers.core) is deprecated and will be removed in a future version.\n",
            "Instructions for updating:\n",
            "Use keras.layers.dense instead.\n",
            "Epoch 0, loss 0.00676835\n",
            "Epoch 200, loss 0.000581396\n",
            "Epoch 400, loss 0.00049217\n",
            "Epoch 600, loss 0.000423091\n",
            "Epoch 800, loss 0.000321786\n",
            "Epoch 1000, loss 0.000305332\n",
            "Epoch 1200, loss 0.000297931\n",
            "Epoch 1400, loss 0.000282398\n",
            "Epoch 1600, loss 0.000283276\n",
            "Epoch 1800, loss 0.0002636\n",
            "Epoch 2000, loss 0.000257399\n"
          ],
          "name": "stdout"
        }
      ]
    },
    {
      "metadata": {
        "id": "9KZawjhcxhVe",
        "colab_type": "code",
        "colab": {}
      },
      "cell_type": "code",
      "source": [
        "#Calculating the output from the given input, trained model and layer number\n",
        "def feedforward(input_data, dnn_output):\n",
        "    output = dnn_output.eval(feed_dict = {input : input_data})\n",
        "    \n",
        "    return output\n",
        "\n",
        "#Recovering the complex values of the file from the output of the model\n",
        "def recover_sound(X , mag_X , mag_output):\n",
        "  temp = X / mag_X\n",
        "  s_hat = temp * mag_output\n",
        "  \n",
        "  return s_hat\n",
        "\n",
        "#Recovering the lost frames\n",
        "def recover_data(x , size , value):\n",
        "  temp = np.full(size , value)\n",
        "  output = np.vstack((temp , x))\n",
        "  \n",
        "  return output"
      ],
      "execution_count": 0,
      "outputs": []
    },
    {
      "metadata": {
        "id": "AncXodmcFyNp",
        "colab_type": "code",
        "colab": {}
      },
      "cell_type": "code",
      "source": [
        "#Transforming the data in such a way that it be given to the model for testing\n",
        "transformed_x_test = transform_data(mag_X_test.T , np.shape(mag_X_test.T)[0] , window_size)\n",
        "transformed_x_test2 = transform_data(mag_X_test2.T , np.shape(mag_X_test2.T)[0] , window_size)"
      ],
      "execution_count": 0,
      "outputs": []
    },
    {
      "metadata": {
        "id": "6PS1GgB55ZK2",
        "colab_type": "code",
        "colab": {}
      },
      "cell_type": "code",
      "source": [
        "#Computing the output from the model for both the test files\n",
        "s_hat_test1 = feedforward(transformed_x_test , output)\n",
        "s_hat_test2 = feedforward(transformed_x_test2 , output)\n",
        "\n",
        "#Recovering the first 19 frames that were lost\n",
        "recovered_x_test1 = recover_data(s_hat_test1 , (window_size - 1 , np.shape(s_hat_test1)[1]) , 1e-15)\n",
        "recovered_x_test2 = recover_data(s_hat_test2 , (window_size - 1 , np.shape(s_hat_test2)[1]) , 1e-15)\n",
        "\n",
        "#Recovering the complex values of both the test files\n",
        "s_hat1 = recover_sound(X_test , mag_X_test , recovered_x_test1.T)\n",
        "s_hat2 = recover_sound(X_test2 , mag_X_test2 , recovered_x_test2.T)"
      ],
      "execution_count": 0,
      "outputs": []
    },
    {
      "metadata": {
        "id": "-Igstcm3KHLN",
        "colab_type": "code",
        "colab": {}
      },
      "cell_type": "code",
      "source": [
        "#Reconstructing the test files after removing noise\n",
        "recon_sound = librosa.istft(s_hat1 , hop_length=512 , win_length=1024)\n",
        "librosa.output.write_wav('test_s_01_recons_q2.wav', recon_sound, sr)\n",
        "\n",
        "recon_sound = librosa.istft(s_hat2 , hop_length=512 , win_length=1024)\n",
        "librosa.output.write_wav('test_s_02_recons_q2.wav', recon_sound, sr)"
      ],
      "execution_count": 0,
      "outputs": []
    },
    {
      "metadata": {
        "id": "sKLA1V6f8FwD",
        "colab_type": "code",
        "colab": {}
      },
      "cell_type": "code",
      "source": [
        "#For testing purpose, feeding the model with train_dirty_male file\n",
        "#From the output generated, reconstructing the audio file\n",
        "s_hat_test3 = feedforward(transformed_x1 , output)\n",
        "recovered_x1 = recover_data(s_hat_test3 , (window_size - 1 , np.shape(s_hat_test3)[1]) , 1e-15)\n",
        "s_hat3 = recover_sound(X, mag_X , recovered_x1.T)\n",
        "recon_sound3 = librosa.istft(s_hat3 , hop_length=512 , win_length=1024)\n",
        "size_recon_sound3 = np.shape(recon_sound3)[0]"
      ],
      "execution_count": 0,
      "outputs": []
    },
    {
      "metadata": {
        "id": "9VZwGR06z8tu",
        "colab_type": "code",
        "outputId": "f9e5006a-d61b-464e-c9b6-2afda7317679",
        "colab": {
          "base_uri": "https://localhost:8080/",
          "height": 34
        }
      },
      "cell_type": "code",
      "source": [
        "#Once the audio file is generated, calculating the SNR value\n",
        "s = s[: size_recon_sound3]\n",
        "num = np.dot(s.T , s)\n",
        "den = np.dot((s - recon_sound3).T,(s - recon_sound3))\n",
        "SNR = 10 * np.log10(num/den)\n",
        "print('Value of SNR : ' + str(SNR))"
      ],
      "execution_count": 17,
      "outputs": [
        {
          "output_type": "stream",
          "text": [
            "Value of SNR : 14.632517099380493\n"
          ],
          "name": "stdout"
        }
      ]
    }
  ]
}