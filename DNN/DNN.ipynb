{
  "nbformat": 4,
  "nbformat_minor": 0,
  "metadata": {
    "colab": {
      "name": "Question2_Assignment1.ipynb",
      "version": "0.3.2",
      "provenance": [],
      "collapsed_sections": []
    },
    "kernelspec": {
      "name": "python3",
      "display_name": "Python 3"
    },
    "accelerator": "GPU"
  },
  "cells": [
    {
      "metadata": {
        "id": "2KgsqnsIPdxd",
        "colab_type": "code",
        "colab": {}
      },
      "cell_type": "code",
      "source": [
        "import os\n",
        "import librosa\n",
        "import numpy as np\n",
        "import matplotlib.pyplot as plt\n",
        "import tensorflow as tf\n",
        "\n",
        "#os.chdir('D:\\IUB\\Deep Learning\\Assignments\\Assignment-1\\data')"
      ],
      "execution_count": 0,
      "outputs": []
    },
    {
      "metadata": {
        "id": "01ClEGd9Wez4",
        "colab_type": "code",
        "colab": {}
      },
      "cell_type": "code",
      "source": [
        "#Loading training and testing files\n",
        "#Computing STFT on all the files\n",
        "s, sr = librosa.load('train_clean_male.wav', sr=None)\n",
        "S = librosa.stft(s, n_fft=1024, hop_length=512)\n",
        "\n",
        "sn, sr = librosa.load('train_dirty_male.wav', sr=None)\n",
        "X = librosa.stft(sn, n_fft=1024, hop_length=512)\n",
        "\n",
        "x_test, sr = librosa.load('test_x_01.wav', sr=None)\n",
        "X_test = librosa.stft(x_test, n_fft=1024, hop_length=512)\n",
        "\n",
        "x_test2, sr = librosa.load('test_x_02.wav', sr=None)\n",
        "X_test2 = librosa.stft(x_test2, n_fft=1024, hop_length=512)"
      ],
      "execution_count": 0,
      "outputs": []
    },
    {
      "metadata": {
        "id": "64FCDoubWvoO",
        "colab_type": "code",
        "colab": {}
      },
      "cell_type": "code",
      "source": [
        "#Calculating the magnitude of all the input files\n",
        "mag_S = np.abs(S)\n",
        "mag_X = np.abs(X)\n",
        "mag_X_test = np.abs(X_test)\n",
        "mag_X_test2 = np.abs(X_test2)\n",
        "\n",
        "#Defining model specifications\n",
        "learning_rate = 0.001\n",
        "act_layers = [tf.nn.relu, tf.nn.relu, tf.nn.relu, tf.nn.relu]\n",
        "neurons = [513, 513, 513, 513]\n",
        "num_layers = len(act_layers)"
      ],
      "execution_count": 0,
      "outputs": []
    },
    {
      "metadata": {
        "id": "JMezPnXIW4Gv",
        "colab_type": "code",
        "colab": {
          "base_uri": "https://localhost:8080/",
          "height": 142
        },
        "outputId": "4251ab02-468a-474b-f763-872b429adaff"
      },
      "cell_type": "code",
      "source": [
        "#Generating a deep network of n layers with specific activation functions\n",
        "#and specified number of neurons in each layer\n",
        "def getModel(x , act_layers , neurons):\n",
        "    num_layers = len(act_layers)\n",
        "    layers = [0]*num_layers\n",
        "    \n",
        "    for i in range(0 , len(act_layers)):        \n",
        "        if i == 0:\n",
        "            layers[i] = tf.layers.dense(x , units= neurons[i] , activation=act_layers[i])        \n",
        "        elif i < num_layers-1:\n",
        "            layers[i] = tf.layers.dense(layers[i-1] , units= neurons[i] , activation=act_layers[i])\n",
        "        else:\n",
        "            layers[i] = tf.layers.dense(layers[i-1] , units= neurons[i] , activation=act_layers[i])\n",
        "    \n",
        "    return layers\n",
        "\n",
        "#Creating placeholders for input and output\n",
        "input = tf.placeholder(tf.float32, [None, 513])\n",
        "labels = tf.placeholder(tf.float32, [None, 513])\n",
        "\n",
        "output = getModel(input, act_layers, neurons)"
      ],
      "execution_count": 4,
      "outputs": [
        {
          "output_type": "stream",
          "text": [
            "WARNING:tensorflow:From <ipython-input-4-c650cf489558>:7: dense (from tensorflow.python.layers.core) is deprecated and will be removed in a future version.\n",
            "Instructions for updating:\n",
            "Use keras.layers.dense instead.\n",
            "WARNING:tensorflow:From /usr/local/lib/python3.6/dist-packages/tensorflow/python/framework/op_def_library.py:263: colocate_with (from tensorflow.python.framework.ops) is deprecated and will be removed in a future version.\n",
            "Instructions for updating:\n",
            "Colocations handled automatically by placer.\n"
          ],
          "name": "stdout"
        }
      ]
    },
    {
      "metadata": {
        "id": "kyZl3kuBW9oO",
        "colab_type": "code",
        "colab": {
          "base_uri": "https://localhost:8080/",
          "height": 210
        },
        "outputId": "2fd826ac-b1a4-4779-a349-b25bf21964f8"
      },
      "cell_type": "code",
      "source": [
        "#Defining the loss function along with its optimizer\n",
        "loss = tf.reduce_mean(tf.square(output[num_layers - 1]-labels))\n",
        "train_step = tf.train.AdamOptimizer(learning_rate).minimize(loss)\n",
        "\n",
        "sess = tf.InteractiveSession()\n",
        "sess.run(tf.global_variables_initializer())\n",
        "\n",
        "count = 0\n",
        "batch_size = 100\n",
        "flag = True\n",
        "\n",
        "while flag:\n",
        "    size = 0\n",
        "    #Mini batching with the given batch size\n",
        "    for i in range(0 , 2500, batch_size):\n",
        "        size += batch_size\n",
        "        if size <= 2459:\n",
        "            batch_x = mag_X[:,i : size]\n",
        "            batch_y = mag_S[:,i : size]\n",
        "        else:\n",
        "            batch_x = mag_X[:,i : 2459]\n",
        "            batch_y = mag_S[:,i : 2459]\n",
        "       \n",
        "        \n",
        "        feed_dict = {input: batch_x.T, labels: batch_y.T}\n",
        "        train_step.run(feed_dict=feed_dict)\n",
        "   \n",
        "    if count%10 == 0:             \n",
        "        loss_calc = loss.eval(feed_dict=feed_dict)\n",
        "        print(\"Epoch %d, loss %g\"%(count, loss_calc))\n",
        "    \n",
        "    #Once 100 epochs are completed, training is stopped\n",
        "    if count >= 100:\n",
        "        flag = False  \n",
        "        \n",
        "    count+=1"
      ],
      "execution_count": 5,
      "outputs": [
        {
          "output_type": "stream",
          "text": [
            "Epoch 0, loss 0.00623594\n",
            "Epoch 10, loss 0.00175752\n",
            "Epoch 20, loss 0.00143223\n",
            "Epoch 30, loss 0.00109975\n",
            "Epoch 40, loss 0.00141358\n",
            "Epoch 50, loss 0.00119226\n",
            "Epoch 60, loss 0.00115608\n",
            "Epoch 70, loss 0.000937958\n",
            "Epoch 80, loss 0.000771694\n",
            "Epoch 90, loss 0.000940264\n",
            "Epoch 100, loss 0.000750866\n"
          ],
          "name": "stdout"
        }
      ]
    },
    {
      "metadata": {
        "id": "9xJA3y88hAfi",
        "colab_type": "code",
        "colab": {}
      },
      "cell_type": "code",
      "source": [
        "#Calculating the output from the given input, trained model and layer number\n",
        "def feedforward(input_data, dnn_output , layer_num):\n",
        "    output = dnn_output[layer_num - 1].eval(feed_dict = {input : input_data})\n",
        "    \n",
        "    return output\n",
        "\n",
        "#Recovering the complex values of the file from the output of the model\n",
        "def recover_sound(X , mag_X , mag_output):\n",
        "  temp = X / mag_X\n",
        "  s_hat = temp * mag_output\n",
        "  \n",
        "  return s_hat"
      ],
      "execution_count": 0,
      "outputs": []
    },
    {
      "metadata": {
        "id": "XCgYgfFuuQGu",
        "colab_type": "code",
        "colab": {}
      },
      "cell_type": "code",
      "source": [
        "#Computing the output from the model for both the test files\n",
        "s_hat_test1 = feedforward(mag_X_test.T , output , 4)\n",
        "s_hat_test2 = feedforward(mag_X_test2.T , output , 4)\n",
        "\n",
        "#Recovering the complex values of both the test files\n",
        "s_hat1 = recover_sound(X_test , mag_X_test , s_hat_test1.T)\n",
        "s_hat2 = recover_sound(X_test2 , mag_X_test2 , s_hat_test2.T)"
      ],
      "execution_count": 0,
      "outputs": []
    },
    {
      "metadata": {
        "id": "cHKUBXAq3_C6",
        "colab_type": "code",
        "colab": {}
      },
      "cell_type": "code",
      "source": [
        "#Reconstructing the test files after removing noise\n",
        "recon_sound = librosa.istft(s_hat1 , hop_length=512 , win_length=1024)\n",
        "librosa.output.write_wav('test_s_01_recons.wav', recon_sound, sr)\n",
        "\n",
        "recon_sound2 = librosa.istft(s_hat2 , hop_length=512 , win_length=1024)\n",
        "librosa.output.write_wav('test_s_02_recons.wav', recon_sound2, sr)"
      ],
      "execution_count": 0,
      "outputs": []
    },
    {
      "metadata": {
        "id": "uKKJX2otZMB2",
        "colab_type": "code",
        "colab": {}
      },
      "cell_type": "code",
      "source": [
        "#For testing purpose, feeding the model with train_dirty_male file\n",
        "#From the output generated, reconstructing the audio file\n",
        "s_hat_test3 = feedforward(mag_X.T , output , 4)\n",
        "s_hat3 = recover_sound(X, mag_X , s_hat_test3.T)\n",
        "recon_sound3 = librosa.istft(s_hat3 , hop_length=512 , win_length=1024)\n",
        "size_recon_sound3 = np.shape(recon_sound3)[0]"
      ],
      "execution_count": 0,
      "outputs": []
    },
    {
      "metadata": {
        "id": "5z-fgfR8amj0",
        "colab_type": "code",
        "colab": {
          "base_uri": "https://localhost:8080/",
          "height": 34
        },
        "outputId": "2bb51176-cee7-4668-f4dc-aaa11a725785"
      },
      "cell_type": "code",
      "source": [
        "#Once the audio file is generated, calculating the SNR value\n",
        "s = s[: size_recon_sound3]\n",
        "num = np.dot(s.T , s)\n",
        "den = np.dot((s - recon_sound3).T,(s - recon_sound3))\n",
        "SNR = 10 * np.log10(num/den)\n",
        "print('Value of SNR : ' + str(SNR))"
      ],
      "execution_count": 10,
      "outputs": [
        {
          "output_type": "stream",
          "text": [
            "Value of SNR : 13.071606159210205\n"
          ],
          "name": "stdout"
        }
      ]
    }
  ]
}