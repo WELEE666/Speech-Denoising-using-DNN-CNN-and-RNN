{
  "nbformat": 4,
  "nbformat_minor": 0,
  "metadata": {
    "colab": {
      "name": "Assignment3_Question2.ipynb",
      "version": "0.3.2",
      "provenance": [],
      "collapsed_sections": []
    },
    "kernelspec": {
      "name": "python3",
      "display_name": "Python 3"
    },
    "accelerator": "GPU"
  },
  "cells": [
    {
      "metadata": {
        "id": "2BP1G9RexboA",
        "colab_type": "code",
        "colab": {}
      },
      "cell_type": "code",
      "source": [
        "from google.colab import drive,files"
      ],
      "execution_count": 0,
      "outputs": []
    },
    {
      "metadata": {
        "id": "5DsQv4vRxeB1",
        "colab_type": "code",
        "outputId": "0281c6df-afa0-4b53-ef1b-602c11824b2a",
        "colab": {
          "base_uri": "https://localhost:8080/",
          "height": 125
        }
      },
      "cell_type": "code",
      "source": [
        "drive.mount('/content/gdrive')"
      ],
      "execution_count": 2,
      "outputs": [
        {
          "output_type": "stream",
          "text": [
            "Go to this URL in a browser: https://accounts.google.com/o/oauth2/auth?client_id=947318989803-6bn6qk8qdgf4n4g3pfee6491hc0brc4i.apps.googleusercontent.com&redirect_uri=urn%3Aietf%3Awg%3Aoauth%3A2.0%3Aoob&scope=email%20https%3A%2F%2Fwww.googleapis.com%2Fauth%2Fdocs.test%20https%3A%2F%2Fwww.googleapis.com%2Fauth%2Fdrive%20https%3A%2F%2Fwww.googleapis.com%2Fauth%2Fdrive.photos.readonly%20https%3A%2F%2Fwww.googleapis.com%2Fauth%2Fpeopleapi.readonly&response_type=code\n",
            "\n",
            "Enter your authorization code:\n",
            "··········\n",
            "Mounted at /content/gdrive\n"
          ],
          "name": "stdout"
        }
      ]
    },
    {
      "metadata": {
        "id": "g-Z_Vo-zxiZL",
        "colab_type": "code",
        "colab": {}
      },
      "cell_type": "code",
      "source": [
        "import os\n",
        "import librosa\n",
        "import glob\n",
        "import pickle\n",
        "import numpy as np\n",
        "import tensorflow as tf\n",
        "import time\n",
        "import matplotlib.pyplot as plt"
      ],
      "execution_count": 0,
      "outputs": []
    },
    {
      "metadata": {
        "id": "IGB8CwO_UziQ",
        "colab_type": "text"
      },
      "cell_type": "markdown",
      "source": [
        "# Loading data\n",
        "\n",
        "If data already exists in the pickle files then we will use the pickle file to get our input data. If it doesn't exist then we will load the files from the given path."
      ]
    },
    {
      "metadata": {
        "id": "Ct2T_AxIzYy3",
        "colab_type": "code",
        "colab": {}
      },
      "cell_type": "code",
      "source": [
        "def getData(pickle_path , mag_pickle_path , input_data_path):\n",
        "  if os.path.exists(pickle_path) and os.path.exists(mag_pickle_path):\n",
        "    speech_list = pickle.load(open(pickle_path, 'rb' ))\n",
        "    mag_speech_list = pickle.load(open(mag_pickle_path, 'rb' ))\n",
        "    print('Pickle already exists! Extracting the data from the pickle')\n",
        "    \n",
        "    return speech_list , mag_speech_list\n",
        "  \n",
        "  else:\n",
        "    speech_list = []\n",
        "    mag_speech_list = []\n",
        "    for file in sorted(glob.iglob(input_data_path)):\n",
        "      s,sr = librosa.load(file , sr=None)\n",
        "      S = librosa.stft(s, n_fft=1024, hop_length=512)\n",
        "      speech_list.append(S)\n",
        "\n",
        "      mag_S = np.abs(S)\n",
        "      mag_speech_list.append(mag_S)\n",
        "\n",
        "    pickle.dump(speech_list, open(pickle_path, 'wb'))\n",
        "    pickle.dump(mag_speech_list, open(mag_pickle_path, 'wb'))\n",
        "    \n",
        "    print('Pickle doesnt exist! Loading the data from input files')\n",
        "    return speech_list , mag_speech_list"
      ],
      "execution_count": 0,
      "outputs": []
    },
    {
      "metadata": {
        "id": "VFUK5bk_VTJH",
        "colab_type": "text"
      },
      "cell_type": "markdown",
      "source": [
        "## Loading data for Training:\n",
        "1. Training clean speech files (trs)\n",
        "2. Training noisy speech files (trn)\n",
        "3. Training mixed speech files (trx)"
      ]
    },
    {
      "metadata": {
        "id": "lzr-7aDJzbX7",
        "colab_type": "code",
        "colab": {
          "base_uri": "https://localhost:8080/",
          "height": 34
        },
        "outputId": "9182a47d-e6f1-4dfe-fb3a-d640c8cc9d39"
      },
      "cell_type": "code",
      "source": [
        "directory_path = 'gdrive/My Drive/Colab Notebooks/homework3/timit-homework/'\n",
        "clean_speech_pickle = directory_path + 'clean_speech.pkl'\n",
        "mag_clean_speech_pickle = directory_path + 'mag_clean_speech.pkl'\n",
        "clean_speech_data_path = directory_path + 'tr/trs*.wav'\n",
        "\n",
        "clean_speech_list, mag_clean_speech_list = getData(clean_speech_pickle, mag_clean_speech_pickle, clean_speech_data_path)"
      ],
      "execution_count": 5,
      "outputs": [
        {
          "output_type": "stream",
          "text": [
            "Pickle already exists! Extracting the data from the pickle\n"
          ],
          "name": "stdout"
        }
      ]
    },
    {
      "metadata": {
        "id": "JpChhyoD0rTJ",
        "colab_type": "code",
        "colab": {
          "base_uri": "https://localhost:8080/",
          "height": 34
        },
        "outputId": "56ac541f-15cd-44fb-c415-a64bce628864"
      },
      "cell_type": "code",
      "source": [
        "directory_path = 'gdrive/My Drive/Colab Notebooks/homework3/timit-homework/'\n",
        "noise_speech_pickle = directory_path + 'noise_speech.pkl'\n",
        "mag_noise_speech_pickle = directory_path + 'mag_noise_speech.pkl'\n",
        "noise_speech_data_path = directory_path + 'tr/trn*.wav'\n",
        "\n",
        "noise_speech_list, mag_noise_speech_list = getData(noise_speech_pickle, mag_noise_speech_pickle, noise_speech_data_path)"
      ],
      "execution_count": 6,
      "outputs": [
        {
          "output_type": "stream",
          "text": [
            "Pickle already exists! Extracting the data from the pickle\n"
          ],
          "name": "stdout"
        }
      ]
    },
    {
      "metadata": {
        "id": "20VzgTR71Cig",
        "colab_type": "code",
        "colab": {
          "base_uri": "https://localhost:8080/",
          "height": 34
        },
        "outputId": "7172e151-00ae-45fa-8b3c-54e58339c932"
      },
      "cell_type": "code",
      "source": [
        "directory_path = 'gdrive/My Drive/Colab Notebooks/homework3/timit-homework/'\n",
        "mixed_speech_pickle = directory_path + 'mixed_speech.pkl'\n",
        "mag_mixed_speech_pickle = directory_path + 'mag_mixed_speech.pkl'\n",
        "mixed_speech_data_path = directory_path + 'tr/trx*.wav'\n",
        "\n",
        "mixed_speech_list, mag_mixed_speech_list = getData(mixed_speech_pickle, mag_mixed_speech_pickle, mixed_speech_data_path)"
      ],
      "execution_count": 7,
      "outputs": [
        {
          "output_type": "stream",
          "text": [
            "Pickle already exists! Extracting the data from the pickle\n"
          ],
          "name": "stdout"
        }
      ]
    },
    {
      "metadata": {
        "id": "g-orCRheWX6E",
        "colab_type": "text"
      },
      "cell_type": "markdown",
      "source": [
        "## Loading data for Validation\n",
        "1. Validation clean speech files (vs)\n",
        "2. Validation noisy speech files (vn)\n",
        "3. Validation mixed speech files (vx)"
      ]
    },
    {
      "metadata": {
        "id": "s9wFPCLO4oQL",
        "colab_type": "code",
        "colab": {
          "base_uri": "https://localhost:8080/",
          "height": 34
        },
        "outputId": "5f111c14-9497-4bdc-fee0-a8fb276965c5"
      },
      "cell_type": "code",
      "source": [
        "directory_path = 'gdrive/My Drive/Colab Notebooks/homework3/timit-homework/'\n",
        "val_clean_speech_pickle = directory_path + 'val_clean_speech.pkl'\n",
        "val_mag_clean_speech_pickle = directory_path + 'val_mag_clean_speech.pkl'\n",
        "val_clean_speech_data_path = directory_path + 'v/vs*.wav'\n",
        "\n",
        "val_clean_speech_list, val_mag_clean_speech_list = getData(val_clean_speech_pickle, val_mag_clean_speech_pickle, val_clean_speech_data_path)"
      ],
      "execution_count": 8,
      "outputs": [
        {
          "output_type": "stream",
          "text": [
            "Pickle already exists! Extracting the data from the pickle\n"
          ],
          "name": "stdout"
        }
      ]
    },
    {
      "metadata": {
        "id": "QjiV2Jak69tG",
        "colab_type": "code",
        "colab": {
          "base_uri": "https://localhost:8080/",
          "height": 34
        },
        "outputId": "f54f2a51-d988-4f5d-e844-adf198206f58"
      },
      "cell_type": "code",
      "source": [
        "directory_path = 'gdrive/My Drive/Colab Notebooks/homework3/timit-homework/'\n",
        "val_noise_speech_pickle = directory_path + 'val_noise_speech.pkl'\n",
        "val_mag_noise_speech_pickle = directory_path + 'val_mag_noise_speech.pkl'\n",
        "val_noise_speech_data_path = directory_path + 'v/vn*.wav'\n",
        "\n",
        "val_noise_speech_list, val_mag_noise_speech_list = getData(val_noise_speech_pickle, val_mag_noise_speech_pickle, val_noise_speech_data_path)"
      ],
      "execution_count": 9,
      "outputs": [
        {
          "output_type": "stream",
          "text": [
            "Pickle already exists! Extracting the data from the pickle\n"
          ],
          "name": "stdout"
        }
      ]
    },
    {
      "metadata": {
        "id": "bnrn7ifIVFDm",
        "colab_type": "code",
        "colab": {
          "base_uri": "https://localhost:8080/",
          "height": 34
        },
        "outputId": "8b231611-e73b-4f2c-f73b-e7a5948662ac"
      },
      "cell_type": "code",
      "source": [
        "directory_path = 'gdrive/My Drive/Colab Notebooks/homework3/timit-homework/'\n",
        "val_mixed_speech_pickle = directory_path + 'val_mixed_speech.pkl'\n",
        "val_mag_mixed_speech_pickle = directory_path + 'val_mag_mixed_speech.pkl'\n",
        "val_mixed_speech_data_path = directory_path + 'v/vx*.wav'\n",
        "\n",
        "val_mixed_speech_list, val_mag_mixed_speech_list = getData(val_mixed_speech_pickle, val_mag_mixed_speech_pickle, val_mixed_speech_data_path)"
      ],
      "execution_count": 10,
      "outputs": [
        {
          "output_type": "stream",
          "text": [
            "Pickle already exists! Extracting the data from the pickle\n"
          ],
          "name": "stdout"
        }
      ]
    },
    {
      "metadata": {
        "id": "asnsLH7PZ8aI",
        "colab_type": "text"
      },
      "cell_type": "markdown",
      "source": [
        "## Loading data for Testing\n",
        "\n",
        "1. Testing mixed speech files (tex)"
      ]
    },
    {
      "metadata": {
        "id": "25H0slhyXw4b",
        "colab_type": "code",
        "colab": {
          "base_uri": "https://localhost:8080/",
          "height": 34
        },
        "outputId": "0ef857b9-9453-4b18-e6e9-b3fbe1017f7c"
      },
      "cell_type": "code",
      "source": [
        "directory_path = 'gdrive/My Drive/Colab Notebooks/homework3/timit-homework/'\n",
        "test_speech_pickle = directory_path + 'test_speech.pkl'\n",
        "test_mag_speech_pickle = directory_path + 'test_mag_speech.pkl'\n",
        "test_speech_data_path = directory_path + 'te/tex*.wav'\n",
        "\n",
        "test_speech_list, test_mag_speech_list = getData(test_speech_pickle, test_mag_speech_pickle, test_speech_data_path)"
      ],
      "execution_count": 11,
      "outputs": [
        {
          "output_type": "stream",
          "text": [
            "Pickle already exists! Extracting the data from the pickle\n"
          ],
          "name": "stdout"
        }
      ]
    },
    {
      "metadata": {
        "id": "dZSCk186apH-",
        "colab_type": "text"
      },
      "cell_type": "markdown",
      "source": [
        "# Calculating Ideal Binary Masks (IBM)"
      ]
    },
    {
      "metadata": {
        "id": "BLLGM52A-fmn",
        "colab_type": "code",
        "colab": {}
      },
      "cell_type": "code",
      "source": [
        "def IBM(S , N):\n",
        "\n",
        "  M = np.greater(S , N) * 1\n",
        "  \n",
        "  return M"
      ],
      "execution_count": 0,
      "outputs": []
    },
    {
      "metadata": {
        "id": "M9Wk8iHOIHu4",
        "colab_type": "code",
        "colab": {}
      },
      "cell_type": "code",
      "source": [
        "M_list = []\n",
        "\n",
        "for i in range(0 , len(mag_clean_speech_list)):\n",
        "  mask = IBM(mag_clean_speech_list[i].T , mag_noise_speech_list[i].T)\n",
        "  \n",
        "  M_list.append(mask)"
      ],
      "execution_count": 0,
      "outputs": []
    },
    {
      "metadata": {
        "id": "34obvnumBnzj",
        "colab_type": "code",
        "colab": {}
      },
      "cell_type": "code",
      "source": [
        "tf.reset_default_graph()"
      ],
      "execution_count": 0,
      "outputs": []
    },
    {
      "metadata": {
        "id": "0_uzn8MxKgqL",
        "colab_type": "code",
        "colab": {}
      },
      "cell_type": "code",
      "source": [
        "#Defining model specifications\n",
        "learning_rate = 0.001\n",
        "num_epochs = 50\n",
        "batch_size = 10"
      ],
      "execution_count": 0,
      "outputs": []
    },
    {
      "metadata": {
        "id": "mSEDuExGPzVp",
        "colab_type": "code",
        "colab": {}
      },
      "cell_type": "code",
      "source": [
        "input = tf.placeholder(tf.float32, [None, None , 513])\n",
        "labels = tf.placeholder(tf.float32, [None, None , 513])"
      ],
      "execution_count": 0,
      "outputs": []
    },
    {
      "metadata": {
        "id": "G0klOJbRcCIz",
        "colab_type": "text"
      },
      "cell_type": "markdown",
      "source": [
        "# Training\n",
        "Creating a model with one LSTM cell and one dense layer that has activation as sigmoid since the target of our model will be the masking matrix for which the values will lie between 0 and 1"
      ]
    },
    {
      "metadata": {
        "id": "X7p6Y2UxtmSJ",
        "colab_type": "code",
        "colab": {}
      },
      "cell_type": "code",
      "source": [
        "def getModel(x , num_hidden):\n",
        "  #LSTM\n",
        "  lstm_cell = tf.contrib.rnn.LSTMCell(num_hidden, initializer=tf.contrib.layers.variance_scaling_initializer())\n",
        "  dropout_lstm = tf.nn.rnn_cell.DropoutWrapper(lstm_cell , output_keep_prob=0.9)\n",
        "  lstm_output , state = tf.nn.dynamic_rnn(dropout_lstm , x , dtype=tf.float32)\n",
        "\n",
        "  output = tf.layers.dense(lstm_output , 513 , activation=tf.nn.sigmoid , kernel_initializer=tf.contrib.layers.variance_scaling_initializer())\n",
        "  \n",
        "  return output"
      ],
      "execution_count": 0,
      "outputs": []
    },
    {
      "metadata": {
        "id": "M_xpWufRQVBJ",
        "colab_type": "code",
        "colab": {
          "base_uri": "https://localhost:8080/",
          "height": 1374
        },
        "outputId": "23bed538-69de-4dfa-ef42-ecb4881c2e3f"
      },
      "cell_type": "code",
      "source": [
        "output = getModel(input,  513)\n",
        "#Defining the loss function along with its optimizer\n",
        "loss = tf.losses.mean_squared_error(labels = labels ,predictions = output)\n",
        "train_step = tf.train.AdamOptimizer(learning_rate).minimize(loss)\n",
        "\n",
        "sess = tf.InteractiveSession()\n",
        "sess.run(tf.global_variables_initializer())\n",
        "\n",
        "loss_list = []\n",
        "sum_loss = []\n",
        "count = 0\n",
        "flag = True\n",
        "\n",
        "while flag:\n",
        "    loss_list = []\n",
        "    #Mini batching with the given batch size\n",
        "    for i in range(0 , 1200, batch_size):\n",
        "          batch_x = [mag_mixed_speech_list[j].T for j in range(i,i+batch_size)]\n",
        "          batch_x = np.array(batch_x)\n",
        "          \n",
        "          batch_y = np.array(M_list[i:i+batch_size])\n",
        "          \n",
        "          batch_x = batch_x.reshape(batch_size,-1,513)\n",
        "          batch_y = batch_y.reshape(batch_size,-1,513)\n",
        "        \n",
        "          feed_dict = {input: batch_x, labels: batch_y}\n",
        "          train_step.run(feed_dict=feed_dict)\n",
        "\n",
        "          loss_calc = loss.eval(feed_dict=feed_dict)\n",
        "          loss_list.append(loss_calc)\n",
        "    \n",
        "    sum_loss.append(sum(loss_list))\n",
        "    print(\"Epoch %d, loss %g\"%(count, sum(loss_list)))\n",
        "    \n",
        "    #Once all the epochs are completed, training is stopped\n",
        "    if count >= num_epochs:\n",
        "        flag = False  \n",
        "        \n",
        "    count+=1"
      ],
      "execution_count": 18,
      "outputs": [
        {
          "output_type": "stream",
          "text": [
            "\n",
            "WARNING: The TensorFlow contrib module will not be included in TensorFlow 2.0.\n",
            "For more information, please see:\n",
            "  * https://github.com/tensorflow/community/blob/master/rfcs/20180907-contrib-sunset.md\n",
            "  * https://github.com/tensorflow/addons\n",
            "If you depend on functionality not listed there, please file an issue.\n",
            "\n",
            "WARNING:tensorflow:From <ipython-input-17-c814da39ca1c>:3: LSTMCell.__init__ (from tensorflow.python.ops.rnn_cell_impl) is deprecated and will be removed in a future version.\n",
            "Instructions for updating:\n",
            "This class is equivalent as tf.keras.layers.LSTMCell, and will be replaced by that in Tensorflow 2.0.\n",
            "WARNING:tensorflow:From <ipython-input-17-c814da39ca1c>:5: dynamic_rnn (from tensorflow.python.ops.rnn) is deprecated and will be removed in a future version.\n",
            "Instructions for updating:\n",
            "Please use `keras.layers.RNN(cell)`, which is equivalent to this API\n",
            "WARNING:tensorflow:From /usr/local/lib/python3.6/dist-packages/tensorflow/python/ops/tensor_array_ops.py:162: colocate_with (from tensorflow.python.framework.ops) is deprecated and will be removed in a future version.\n",
            "Instructions for updating:\n",
            "Colocations handled automatically by placer.\n",
            "WARNING:tensorflow:From /usr/local/lib/python3.6/dist-packages/tensorflow/python/ops/rnn_cell_impl.py:1259: calling dropout (from tensorflow.python.ops.nn_ops) with keep_prob is deprecated and will be removed in a future version.\n",
            "Instructions for updating:\n",
            "Please use `rate` instead of `keep_prob`. Rate should be set to `rate = 1 - keep_prob`.\n",
            "WARNING:tensorflow:From <ipython-input-17-c814da39ca1c>:7: dense (from tensorflow.python.layers.core) is deprecated and will be removed in a future version.\n",
            "Instructions for updating:\n",
            "Use keras.layers.dense instead.\n",
            "WARNING:tensorflow:From /usr/local/lib/python3.6/dist-packages/tensorflow/python/ops/losses/losses_impl.py:667: to_float (from tensorflow.python.ops.math_ops) is deprecated and will be removed in a future version.\n",
            "Instructions for updating:\n",
            "Use tf.cast instead.\n",
            "Epoch 0, loss 26.4157\n",
            "Epoch 1, loss 22.8983\n",
            "Epoch 2, loss 20.8222\n",
            "Epoch 3, loss 19.3957\n",
            "Epoch 4, loss 18.5027\n",
            "Epoch 5, loss 17.85\n",
            "Epoch 6, loss 17.4263\n",
            "Epoch 7, loss 17.0617\n",
            "Epoch 8, loss 16.7531\n",
            "Epoch 9, loss 16.3605\n",
            "Epoch 10, loss 16.108\n",
            "Epoch 11, loss 15.8611\n",
            "Epoch 12, loss 15.5392\n",
            "Epoch 13, loss 15.3322\n",
            "Epoch 14, loss 15.1126\n",
            "Epoch 15, loss 14.9349\n",
            "Epoch 16, loss 14.7522\n",
            "Epoch 17, loss 14.6592\n",
            "Epoch 18, loss 14.5311\n",
            "Epoch 19, loss 14.3598\n",
            "Epoch 20, loss 14.2706\n",
            "Epoch 21, loss 14.0791\n",
            "Epoch 22, loss 13.9128\n",
            "Epoch 23, loss 13.7741\n",
            "Epoch 24, loss 13.6148\n",
            "Epoch 25, loss 13.5603\n",
            "Epoch 26, loss 13.428\n",
            "Epoch 27, loss 13.3486\n",
            "Epoch 28, loss 13.2467\n",
            "Epoch 29, loss 13.0769\n",
            "Epoch 30, loss 12.9209\n",
            "Epoch 31, loss 12.8096\n",
            "Epoch 32, loss 12.748\n",
            "Epoch 33, loss 12.6729\n",
            "Epoch 34, loss 12.5748\n",
            "Epoch 35, loss 12.4808\n",
            "Epoch 36, loss 12.4291\n",
            "Epoch 37, loss 12.3661\n",
            "Epoch 38, loss 12.3147\n",
            "Epoch 39, loss 12.281\n",
            "Epoch 40, loss 12.1944\n",
            "Epoch 41, loss 12.115\n",
            "Epoch 42, loss 12.0479\n",
            "Epoch 43, loss 11.9814\n",
            "Epoch 44, loss 11.9554\n",
            "Epoch 45, loss 11.899\n",
            "Epoch 46, loss 11.8299\n",
            "Epoch 47, loss 11.7853\n",
            "Epoch 48, loss 11.6989\n",
            "Epoch 49, loss 11.7289\n",
            "Epoch 50, loss 11.8673\n"
          ],
          "name": "stdout"
        }
      ]
    },
    {
      "metadata": {
        "id": "9p10POrsVy1J",
        "colab_type": "code",
        "colab": {
          "base_uri": "https://localhost:8080/",
          "height": 365
        },
        "outputId": "3827499a-2609-4693-84f1-a3e33bbb3ee8"
      },
      "cell_type": "code",
      "source": [
        "plt.plot(sum_loss)"
      ],
      "execution_count": 19,
      "outputs": [
        {
          "output_type": "execute_result",
          "data": {
            "text/plain": [
              "[<matplotlib.lines.Line2D at 0x7fa41742e390>]"
            ]
          },
          "metadata": {
            "tags": []
          },
          "execution_count": 19
        },
        {
          "output_type": "display_data",
          "data": {
            "image/png": "[encoded data removed]",
            "text/plain": [
              "<Figure size 576x396 with 1 Axes>"
            ]
          },
          "metadata": {
            "tags": []
          }
        }
      ]
    },
    {
      "metadata": {
        "id": "czecoPRNQxqu",
        "colab_type": "code",
        "colab": {}
      },
      "cell_type": "code",
      "source": [
        "#Calculating the output from the given input, trained model and layer number\n",
        "def feedforward(input_data, dnn_output):\n",
        "    output = dnn_output.eval(feed_dict = {input : input_data})\n",
        "    \n",
        "    return output\n",
        "\n",
        "#Calculating SNR to check model performance  \n",
        "def calculateSNR(clean_speech , recon_speech , size_recon_sound):\n",
        "  clean_speech = clean_speech[: size_recon_sound]\n",
        "  num = np.dot(clean_speech.T , clean_speech)\n",
        "  den = np.dot((clean_speech - recon_speech).T,(clean_speech - recon_speech))\n",
        "  SNR = 10 * np.log10(num/den)\n",
        "#   print('Value of SNR : ' + str(SNR))\n",
        "  \n",
        "  return SNR"
      ],
      "execution_count": 0,
      "outputs": []
    },
    {
      "metadata": {
        "id": "HwU0jvPtc8QG",
        "colab_type": "text"
      },
      "cell_type": "markdown",
      "source": [
        "# Calculating SNR\n",
        "\n",
        "We will check the performance of the model from the validation data."
      ]
    },
    {
      "metadata": {
        "id": "6msO4-VzNpqP",
        "colab_type": "code",
        "colab": {}
      },
      "cell_type": "code",
      "source": [
        "SNR = []\n",
        "for i in range(1200):\n",
        "\n",
        "  ff_ip = np.array([val_mag_mixed_speech_list[i].T])\n",
        "  ff_op = feedforward(ff_ip , output)\n",
        "\n",
        "  speech_complex = np.array([val_mixed_speech_list[i].T])\n",
        "  shat = np.multiply(ff_op, speech_complex)\n",
        "  shat = shat.T[:,:,0]\n",
        "  recon_sound = librosa.istft(shat , hop_length=512 , win_length=1024)\n",
        "  \n",
        "  file_num = str(i).zfill(4)\n",
        "  librosa.output.write_wav('val_recon' + file_num + '.wav', recon_sound, sr = 16000)\n",
        "  \n",
        "  clean_speech = librosa.istft(val_clean_speech_list[i] , hop_length=512 , win_length=1024)\n",
        "  \n",
        "  size_recon_sound = np.shape(recon_sound)[0]\n",
        "  \n",
        "  snr = calculateSNR(clean_speech , recon_sound , size_recon_sound)\n",
        "  \n",
        "  SNR.append(snr)"
      ],
      "execution_count": 0,
      "outputs": []
    },
    {
      "metadata": {
        "id": "zMPEMJ1kefsI",
        "colab_type": "code",
        "colab": {
          "base_uri": "https://localhost:8080/",
          "height": 70
        },
        "outputId": "27b17dd3-3a16-45b9-a368-e79249b9a86f"
      },
      "cell_type": "code",
      "source": [
        "print('Minimum SNR of 1200 files : ' + str(min(SNR)))\n",
        "print('Mean SNR of 1200 files : ' + str(np.mean(SNR)))\n",
        "print('Maximum SNR of 1200 files : ' + str(max(SNR)))"
      ],
      "execution_count": 22,
      "outputs": [
        {
          "output_type": "stream",
          "text": [
            "Minimum SNR of 1200 files : 4.142335057258606\n",
            "Mean SNR of 1200 files : 11.19051182071368\n",
            "Maximum SNR of 1200 files : 26.179444789886475\n"
          ],
          "name": "stdout"
        }
      ]
    },
    {
      "metadata": {
        "id": "kY-a94RhgdL9",
        "colab_type": "text"
      },
      "cell_type": "markdown",
      "source": [
        "# Testing"
      ]
    },
    {
      "metadata": {
        "id": "NOlrrlAzeRcF",
        "colab_type": "code",
        "colab": {}
      },
      "cell_type": "code",
      "source": [
        "for i in range(400):\n",
        "  ff_ip = np.array([test_mag_speech_list[i].T])\n",
        "  ff_op = feedforward(ff_ip , output)\n",
        "\n",
        "  speech_complex = np.array([test_speech_list[i].T])\n",
        "  shat = np.multiply(ff_op, speech_complex)\n",
        "  shat = shat.T[:,:,0]\n",
        "  recon_sound = librosa.istft(shat , hop_length=512 , win_length=1024)\n",
        "  \n",
        "  file_num = str(i).zfill(4)\n",
        "  librosa.output.write_wav('test_recon' + file_num + '.wav', recon_sound, sr = 16000)\n",
        "  files.download('test_recon' + file_num + '.wav') "
      ],
      "execution_count": 0,
      "outputs": []
    }
  ]
}